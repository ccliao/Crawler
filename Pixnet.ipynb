{
 "cells": [
  {
   "cell_type": "code",
   "execution_count": 60,
   "metadata": {
    "collapsed": false
   },
   "outputs": [],
   "source": [
    "import requests\n",
    "from bs4 import BeautifulSoup as bs\n",
    "import pandas as pd\n",
    "import json\n",
    "import math\n",
    "import time\n",
    "import datetime\n",
    "import os"
   ]
  },
  {
   "cell_type": "code",
   "execution_count": 45,
   "metadata": {
    "collapsed": true
   },
   "outputs": [
    {
     "data": {
      "text/plain": [
       "['lohas',\n",
       " 'wkitty',\n",
       " 'bajenny',\n",
       " 'judyer101010',\n",
       " 'smilejean',\n",
       " 'mimg47',\n",
       " 'niniblue',\n",
       " 'drugs',\n",
       " 'paine0602',\n",
       " 'ch3126',\n",
       " 'jay7134',\n",
       " 'cheng0073',\n",
       " 'bangkokgoplay',\n",
       " 'john547',\n",
       " 'barbieedoll',\n",
       " 'oldfather1029',\n",
       " 'viviyu',\n",
       " 'crystal1983',\n",
       " 'fbuon2881',\n",
       " 'venuslin0113',\n",
       " 'windko0813',\n",
       " 'j272popo',\n",
       " 'agathachiu66',\n",
       " 'l50740',\n",
       " 'pingpig',\n",
       " 'sweetmemory99',\n",
       " 'maymay1231',\n",
       " 'kakakuksk',\n",
       " 'banbi217',\n",
       " 'nana0032458',\n",
       " 'kavanachang',\n",
       " 'enlife',\n",
       " 'cat875030',\n",
       " 'jay0909',\n",
       " 'difeny',\n",
       " 'a59407908',\n",
       " 'jimmraz',\n",
       " 'evshhips',\n",
       " 'coupine650520',\n",
       " 'demi0130',\n",
       " 'masaharuwu',\n",
       " 'rita11836',\n",
       " 'as660707',\n",
       " 'happyday760626',\n",
       " 'tainanlohas',\n",
       " 'julia116',\n",
       " 'yopalit',\n",
       " 'amarylliss',\n",
       " 'monkey2010',\n",
       " 'dreamycat0421',\n",
       " 'vilily',\n",
       " 'gugugu4411',\n",
       " 'damon624',\n",
       " 'mika0310',\n",
       " 'dong1104',\n",
       " 'catty0914',\n",
       " 'hrylin',\n",
       " 'nanacobaby',\n",
       " 'aliciaisme',\n",
       " 'qpjj',\n",
       " 'bonddealerbook',\n",
       " 'dailin114',\n",
       " 'darrenje0322',\n",
       " 'may0708',\n",
       " 'candybear0121',\n",
       " 'aura10',\n",
       " 'sinea100',\n",
       " 'nini710',\n",
       " 'bulanini',\n",
       " 'louis5149',\n",
       " 'ballenf',\n",
       " 'eeooa0314',\n",
       " 'tinie0810',\n",
       " 'fonghu0217',\n",
       " 'stellachen524',\n",
       " 'ccn1618',\n",
       " 'bobo5210',\n",
       " 'beautychu060',\n",
       " 'cuteboge100',\n",
       " 'oreo741203',\n",
       " 'pj20120619',\n",
       " 'starrailway',\n",
       " 'ericwalk',\n",
       " 'tammytwkr',\n",
       " 'yoyovilla',\n",
       " 'summertsai000',\n",
       " 'loveyuwa',\n",
       " 'iamjulia',\n",
       " 'baw1031',\n",
       " 'i88mnet',\n",
       " 'infinite520visa',\n",
       " 'tinachiang0824',\n",
       " 'qqrice0416',\n",
       " 'sultt',\n",
       " 'shebw',\n",
       " 'archerplus',\n",
       " 'j965j5',\n",
       " 'kimiyo',\n",
       " 'anrine910070',\n",
       " 'starken']"
      ]
     },
     "execution_count": 45,
     "metadata": {},
     "output_type": "execute_result"
    }
   ],
   "source": [
    "#旅遊部落客排行榜\n",
    "blog_name = []\n",
    "rank = 0\n",
    "for i in range(7):\n",
    "    page = i + 1\n",
    "    r = requests.get('https://www.pixnet.net/blog/bloggers/category/16/{}'.format(page))\n",
    "    r.encoding = 'utf8'\n",
    "    soup = bs(r.text, 'lxml')\n",
    "    for j in range(len(soup.select('#content .author'))):\n",
    "        blog_name.append(soup.select('.author')[j]['href'].split('/')[-1])\n",
    "        rank += 1\n",
    "        if rank >= 100:\n",
    "            break\n",
    "blog_name"
   ]
  },
  {
   "cell_type": "code",
   "execution_count": 82,
   "metadata": {
    "collapsed": false
   },
   "outputs": [
    {
     "name": "stdout",
     "output_type": "stream",
     "text": [
      "lohas\n"
     ]
    },
    {
     "name": "stderr",
     "output_type": "stream",
     "text": [
      "C:\\Miniconda2\\envs\\hour_of_code\\lib\\site-packages\\pandas\\core\\indexing.py:128: SettingWithCopyWarning: \n",
      "A value is trying to be set on a copy of a slice from a DataFrame\n",
      "\n",
      "See the caveats in the documentation: http://pandas.pydata.org/pandas-docs/stable/indexing.html#indexing-view-versus-copy\n",
      "  self._setitem_with_indexer(indexer, value)\n"
     ]
    },
    {
     "ename": "ConnectionError",
     "evalue": "('Connection aborted.', ConnectionResetError(10054, '遠端主機已強制關閉一個現存的連線。', None, 10054, None))",
     "output_type": "error",
     "traceback": [
      "\u001b[1;31m---------------------------------------------------------------------------\u001b[0m",
      "\u001b[1;31mConnectionResetError\u001b[0m                      Traceback (most recent call last)",
      "\u001b[1;32mC:\\Miniconda2\\envs\\hour_of_code\\lib\\site-packages\\requests\\packages\\urllib3\\connectionpool.py\u001b[0m in \u001b[0;36murlopen\u001b[1;34m(self, method, url, body, headers, retries, redirect, assert_same_host, timeout, pool_timeout, release_conn, **response_kw)\u001b[0m\n\u001b[0;32m    558\u001b[0m                                                   \u001b[0mtimeout\u001b[0m\u001b[1;33m=\u001b[0m\u001b[0mtimeout_obj\u001b[0m\u001b[1;33m,\u001b[0m\u001b[1;33m\u001b[0m\u001b[0m\n\u001b[1;32m--> 559\u001b[1;33m                                                   body=body, headers=headers)\n\u001b[0m\u001b[0;32m    560\u001b[0m \u001b[1;33m\u001b[0m\u001b[0m\n",
      "\u001b[1;32mC:\\Miniconda2\\envs\\hour_of_code\\lib\\site-packages\\requests\\packages\\urllib3\\connectionpool.py\u001b[0m in \u001b[0;36m_make_request\u001b[1;34m(self, conn, method, url, timeout, **httplib_request_kw)\u001b[0m\n\u001b[0;32m    344\u001b[0m         \u001b[1;32mtry\u001b[0m\u001b[1;33m:\u001b[0m\u001b[1;33m\u001b[0m\u001b[0m\n\u001b[1;32m--> 345\u001b[1;33m             \u001b[0mself\u001b[0m\u001b[1;33m.\u001b[0m\u001b[0m_validate_conn\u001b[0m\u001b[1;33m(\u001b[0m\u001b[0mconn\u001b[0m\u001b[1;33m)\u001b[0m\u001b[1;33m\u001b[0m\u001b[0m\n\u001b[0m\u001b[0;32m    346\u001b[0m         \u001b[1;32mexcept\u001b[0m \u001b[1;33m(\u001b[0m\u001b[0mSocketTimeout\u001b[0m\u001b[1;33m,\u001b[0m \u001b[0mBaseSSLError\u001b[0m\u001b[1;33m)\u001b[0m \u001b[1;32mas\u001b[0m \u001b[0me\u001b[0m\u001b[1;33m:\u001b[0m\u001b[1;33m\u001b[0m\u001b[0m\n",
      "\u001b[1;32mC:\\Miniconda2\\envs\\hour_of_code\\lib\\site-packages\\requests\\packages\\urllib3\\connectionpool.py\u001b[0m in \u001b[0;36m_validate_conn\u001b[1;34m(self, conn)\u001b[0m\n\u001b[0;32m    783\u001b[0m         \u001b[1;32mif\u001b[0m \u001b[1;32mnot\u001b[0m \u001b[0mgetattr\u001b[0m\u001b[1;33m(\u001b[0m\u001b[0mconn\u001b[0m\u001b[1;33m,\u001b[0m \u001b[1;34m'sock'\u001b[0m\u001b[1;33m,\u001b[0m \u001b[1;32mNone\u001b[0m\u001b[1;33m)\u001b[0m\u001b[1;33m:\u001b[0m  \u001b[1;31m# AppEngine might not have  `.sock`\u001b[0m\u001b[1;33m\u001b[0m\u001b[0m\n\u001b[1;32m--> 784\u001b[1;33m             \u001b[0mconn\u001b[0m\u001b[1;33m.\u001b[0m\u001b[0mconnect\u001b[0m\u001b[1;33m(\u001b[0m\u001b[1;33m)\u001b[0m\u001b[1;33m\u001b[0m\u001b[0m\n\u001b[0m\u001b[0;32m    785\u001b[0m \u001b[1;33m\u001b[0m\u001b[0m\n",
      "\u001b[1;32mC:\\Miniconda2\\envs\\hour_of_code\\lib\\site-packages\\requests\\packages\\urllib3\\connection.py\u001b[0m in \u001b[0;36mconnect\u001b[1;34m(self)\u001b[0m\n\u001b[0;32m    251\u001b[0m                                     \u001b[0mserver_hostname\u001b[0m\u001b[1;33m=\u001b[0m\u001b[0mhostname\u001b[0m\u001b[1;33m,\u001b[0m\u001b[1;33m\u001b[0m\u001b[0m\n\u001b[1;32m--> 252\u001b[1;33m                                     ssl_version=resolved_ssl_version)\n\u001b[0m\u001b[0;32m    253\u001b[0m \u001b[1;33m\u001b[0m\u001b[0m\n",
      "\u001b[1;32mC:\\Miniconda2\\envs\\hour_of_code\\lib\\site-packages\\requests\\packages\\urllib3\\util\\ssl_.py\u001b[0m in \u001b[0;36mssl_wrap_socket\u001b[1;34m(sock, keyfile, certfile, cert_reqs, ca_certs, server_hostname, ssl_version, ciphers, ssl_context, ca_cert_dir)\u001b[0m\n\u001b[0;32m    304\u001b[0m     \u001b[1;32mif\u001b[0m \u001b[0mHAS_SNI\u001b[0m\u001b[1;33m:\u001b[0m  \u001b[1;31m# Platform-specific: OpenSSL with enabled SNI\u001b[0m\u001b[1;33m\u001b[0m\u001b[0m\n\u001b[1;32m--> 305\u001b[1;33m         \u001b[1;32mreturn\u001b[0m \u001b[0mcontext\u001b[0m\u001b[1;33m.\u001b[0m\u001b[0mwrap_socket\u001b[0m\u001b[1;33m(\u001b[0m\u001b[0msock\u001b[0m\u001b[1;33m,\u001b[0m \u001b[0mserver_hostname\u001b[0m\u001b[1;33m=\u001b[0m\u001b[0mserver_hostname\u001b[0m\u001b[1;33m)\u001b[0m\u001b[1;33m\u001b[0m\u001b[0m\n\u001b[0m\u001b[0;32m    306\u001b[0m \u001b[1;33m\u001b[0m\u001b[0m\n",
      "\u001b[1;32mC:\\Miniconda2\\envs\\hour_of_code\\lib\\ssl.py\u001b[0m in \u001b[0;36mwrap_socket\u001b[1;34m(self, sock, server_side, do_handshake_on_connect, suppress_ragged_eofs, server_hostname)\u001b[0m\n\u001b[0;32m    375\u001b[0m                          \u001b[0mserver_hostname\u001b[0m\u001b[1;33m=\u001b[0m\u001b[0mserver_hostname\u001b[0m\u001b[1;33m,\u001b[0m\u001b[1;33m\u001b[0m\u001b[0m\n\u001b[1;32m--> 376\u001b[1;33m                          _context=self)\n\u001b[0m\u001b[0;32m    377\u001b[0m \u001b[1;33m\u001b[0m\u001b[0m\n",
      "\u001b[1;32mC:\\Miniconda2\\envs\\hour_of_code\\lib\\ssl.py\u001b[0m in \u001b[0;36m__init__\u001b[1;34m(self, sock, keyfile, certfile, server_side, cert_reqs, ssl_version, ca_certs, do_handshake_on_connect, family, type, proto, fileno, suppress_ragged_eofs, npn_protocols, ciphers, server_hostname, _context)\u001b[0m\n\u001b[0;32m    746\u001b[0m                         \u001b[1;32mraise\u001b[0m \u001b[0mValueError\u001b[0m\u001b[1;33m(\u001b[0m\u001b[1;34m\"do_handshake_on_connect should not be specified for non-blocking sockets\"\u001b[0m\u001b[1;33m)\u001b[0m\u001b[1;33m\u001b[0m\u001b[0m\n\u001b[1;32m--> 747\u001b[1;33m                     \u001b[0mself\u001b[0m\u001b[1;33m.\u001b[0m\u001b[0mdo_handshake\u001b[0m\u001b[1;33m(\u001b[0m\u001b[1;33m)\u001b[0m\u001b[1;33m\u001b[0m\u001b[0m\n\u001b[0m\u001b[0;32m    748\u001b[0m \u001b[1;33m\u001b[0m\u001b[0m\n",
      "\u001b[1;32mC:\\Miniconda2\\envs\\hour_of_code\\lib\\ssl.py\u001b[0m in \u001b[0;36mdo_handshake\u001b[1;34m(self, block)\u001b[0m\n\u001b[0;32m    982\u001b[0m                 \u001b[0mself\u001b[0m\u001b[1;33m.\u001b[0m\u001b[0msettimeout\u001b[0m\u001b[1;33m(\u001b[0m\u001b[1;32mNone\u001b[0m\u001b[1;33m)\u001b[0m\u001b[1;33m\u001b[0m\u001b[0m\n\u001b[1;32m--> 983\u001b[1;33m             \u001b[0mself\u001b[0m\u001b[1;33m.\u001b[0m\u001b[0m_sslobj\u001b[0m\u001b[1;33m.\u001b[0m\u001b[0mdo_handshake\u001b[0m\u001b[1;33m(\u001b[0m\u001b[1;33m)\u001b[0m\u001b[1;33m\u001b[0m\u001b[0m\n\u001b[0m\u001b[0;32m    984\u001b[0m         \u001b[1;32mfinally\u001b[0m\u001b[1;33m:\u001b[0m\u001b[1;33m\u001b[0m\u001b[0m\n",
      "\u001b[1;32mC:\\Miniconda2\\envs\\hour_of_code\\lib\\ssl.py\u001b[0m in \u001b[0;36mdo_handshake\u001b[1;34m(self)\u001b[0m\n\u001b[0;32m    627\u001b[0m         \u001b[1;34m\"\"\"Start the SSL/TLS handshake.\"\"\"\u001b[0m\u001b[1;33m\u001b[0m\u001b[0m\n\u001b[1;32m--> 628\u001b[1;33m         \u001b[0mself\u001b[0m\u001b[1;33m.\u001b[0m\u001b[0m_sslobj\u001b[0m\u001b[1;33m.\u001b[0m\u001b[0mdo_handshake\u001b[0m\u001b[1;33m(\u001b[0m\u001b[1;33m)\u001b[0m\u001b[1;33m\u001b[0m\u001b[0m\n\u001b[0m\u001b[0;32m    629\u001b[0m         \u001b[1;32mif\u001b[0m \u001b[0mself\u001b[0m\u001b[1;33m.\u001b[0m\u001b[0mcontext\u001b[0m\u001b[1;33m.\u001b[0m\u001b[0mcheck_hostname\u001b[0m\u001b[1;33m:\u001b[0m\u001b[1;33m\u001b[0m\u001b[0m\n",
      "\u001b[1;31mConnectionResetError\u001b[0m: [WinError 10054] 遠端主機已強制關閉一個現存的連線。",
      "\nDuring handling of the above exception, another exception occurred:\n",
      "\u001b[1;31mProtocolError\u001b[0m                             Traceback (most recent call last)",
      "\u001b[1;32mC:\\Miniconda2\\envs\\hour_of_code\\lib\\site-packages\\requests\\adapters.py\u001b[0m in \u001b[0;36msend\u001b[1;34m(self, request, stream, timeout, verify, cert, proxies)\u001b[0m\n\u001b[0;32m    375\u001b[0m                     \u001b[0mretries\u001b[0m\u001b[1;33m=\u001b[0m\u001b[0mself\u001b[0m\u001b[1;33m.\u001b[0m\u001b[0mmax_retries\u001b[0m\u001b[1;33m,\u001b[0m\u001b[1;33m\u001b[0m\u001b[0m\n\u001b[1;32m--> 376\u001b[1;33m                     \u001b[0mtimeout\u001b[0m\u001b[1;33m=\u001b[0m\u001b[0mtimeout\u001b[0m\u001b[1;33m\u001b[0m\u001b[0m\n\u001b[0m\u001b[0;32m    377\u001b[0m                 )\n",
      "\u001b[1;32mC:\\Miniconda2\\envs\\hour_of_code\\lib\\site-packages\\requests\\packages\\urllib3\\connectionpool.py\u001b[0m in \u001b[0;36murlopen\u001b[1;34m(self, method, url, body, headers, retries, redirect, assert_same_host, timeout, pool_timeout, release_conn, **response_kw)\u001b[0m\n\u001b[0;32m    608\u001b[0m             retries = retries.increment(method, url, error=e, _pool=self,\n\u001b[1;32m--> 609\u001b[1;33m                                         _stacktrace=sys.exc_info()[2])\n\u001b[0m\u001b[0;32m    610\u001b[0m             \u001b[0mretries\u001b[0m\u001b[1;33m.\u001b[0m\u001b[0msleep\u001b[0m\u001b[1;33m(\u001b[0m\u001b[1;33m)\u001b[0m\u001b[1;33m\u001b[0m\u001b[0m\n",
      "\u001b[1;32mC:\\Miniconda2\\envs\\hour_of_code\\lib\\site-packages\\requests\\packages\\urllib3\\util\\retry.py\u001b[0m in \u001b[0;36mincrement\u001b[1;34m(self, method, url, response, error, _pool, _stacktrace)\u001b[0m\n\u001b[0;32m    246\u001b[0m             \u001b[1;32mif\u001b[0m \u001b[0mread\u001b[0m \u001b[1;32mis\u001b[0m \u001b[1;32mFalse\u001b[0m\u001b[1;33m:\u001b[0m\u001b[1;33m\u001b[0m\u001b[0m\n\u001b[1;32m--> 247\u001b[1;33m                 \u001b[1;32mraise\u001b[0m \u001b[0msix\u001b[0m\u001b[1;33m.\u001b[0m\u001b[0mreraise\u001b[0m\u001b[1;33m(\u001b[0m\u001b[0mtype\u001b[0m\u001b[1;33m(\u001b[0m\u001b[0merror\u001b[0m\u001b[1;33m)\u001b[0m\u001b[1;33m,\u001b[0m \u001b[0merror\u001b[0m\u001b[1;33m,\u001b[0m \u001b[0m_stacktrace\u001b[0m\u001b[1;33m)\u001b[0m\u001b[1;33m\u001b[0m\u001b[0m\n\u001b[0m\u001b[0;32m    248\u001b[0m             \u001b[1;32melif\u001b[0m \u001b[0mread\u001b[0m \u001b[1;32mis\u001b[0m \u001b[1;32mnot\u001b[0m \u001b[1;32mNone\u001b[0m\u001b[1;33m:\u001b[0m\u001b[1;33m\u001b[0m\u001b[0m\n",
      "\u001b[1;32mC:\\Miniconda2\\envs\\hour_of_code\\lib\\site-packages\\requests\\packages\\urllib3\\packages\\six.py\u001b[0m in \u001b[0;36mreraise\u001b[1;34m(tp, value, tb)\u001b[0m\n\u001b[0;32m    308\u001b[0m         \u001b[1;32mif\u001b[0m \u001b[0mvalue\u001b[0m\u001b[1;33m.\u001b[0m\u001b[0m__traceback__\u001b[0m \u001b[1;32mis\u001b[0m \u001b[1;32mnot\u001b[0m \u001b[0mtb\u001b[0m\u001b[1;33m:\u001b[0m\u001b[1;33m\u001b[0m\u001b[0m\n\u001b[1;32m--> 309\u001b[1;33m             \u001b[1;32mraise\u001b[0m \u001b[0mvalue\u001b[0m\u001b[1;33m.\u001b[0m\u001b[0mwith_traceback\u001b[0m\u001b[1;33m(\u001b[0m\u001b[0mtb\u001b[0m\u001b[1;33m)\u001b[0m\u001b[1;33m\u001b[0m\u001b[0m\n\u001b[0m\u001b[0;32m    310\u001b[0m         \u001b[1;32mraise\u001b[0m \u001b[0mvalue\u001b[0m\u001b[1;33m\u001b[0m\u001b[0m\n",
      "\u001b[1;32mC:\\Miniconda2\\envs\\hour_of_code\\lib\\site-packages\\requests\\packages\\urllib3\\connectionpool.py\u001b[0m in \u001b[0;36murlopen\u001b[1;34m(self, method, url, body, headers, retries, redirect, assert_same_host, timeout, pool_timeout, release_conn, **response_kw)\u001b[0m\n\u001b[0;32m    558\u001b[0m                                                   \u001b[0mtimeout\u001b[0m\u001b[1;33m=\u001b[0m\u001b[0mtimeout_obj\u001b[0m\u001b[1;33m,\u001b[0m\u001b[1;33m\u001b[0m\u001b[0m\n\u001b[1;32m--> 559\u001b[1;33m                                                   body=body, headers=headers)\n\u001b[0m\u001b[0;32m    560\u001b[0m \u001b[1;33m\u001b[0m\u001b[0m\n",
      "\u001b[1;32mC:\\Miniconda2\\envs\\hour_of_code\\lib\\site-packages\\requests\\packages\\urllib3\\connectionpool.py\u001b[0m in \u001b[0;36m_make_request\u001b[1;34m(self, conn, method, url, timeout, **httplib_request_kw)\u001b[0m\n\u001b[0;32m    344\u001b[0m         \u001b[1;32mtry\u001b[0m\u001b[1;33m:\u001b[0m\u001b[1;33m\u001b[0m\u001b[0m\n\u001b[1;32m--> 345\u001b[1;33m             \u001b[0mself\u001b[0m\u001b[1;33m.\u001b[0m\u001b[0m_validate_conn\u001b[0m\u001b[1;33m(\u001b[0m\u001b[0mconn\u001b[0m\u001b[1;33m)\u001b[0m\u001b[1;33m\u001b[0m\u001b[0m\n\u001b[0m\u001b[0;32m    346\u001b[0m         \u001b[1;32mexcept\u001b[0m \u001b[1;33m(\u001b[0m\u001b[0mSocketTimeout\u001b[0m\u001b[1;33m,\u001b[0m \u001b[0mBaseSSLError\u001b[0m\u001b[1;33m)\u001b[0m \u001b[1;32mas\u001b[0m \u001b[0me\u001b[0m\u001b[1;33m:\u001b[0m\u001b[1;33m\u001b[0m\u001b[0m\n",
      "\u001b[1;32mC:\\Miniconda2\\envs\\hour_of_code\\lib\\site-packages\\requests\\packages\\urllib3\\connectionpool.py\u001b[0m in \u001b[0;36m_validate_conn\u001b[1;34m(self, conn)\u001b[0m\n\u001b[0;32m    783\u001b[0m         \u001b[1;32mif\u001b[0m \u001b[1;32mnot\u001b[0m \u001b[0mgetattr\u001b[0m\u001b[1;33m(\u001b[0m\u001b[0mconn\u001b[0m\u001b[1;33m,\u001b[0m \u001b[1;34m'sock'\u001b[0m\u001b[1;33m,\u001b[0m \u001b[1;32mNone\u001b[0m\u001b[1;33m)\u001b[0m\u001b[1;33m:\u001b[0m  \u001b[1;31m# AppEngine might not have  `.sock`\u001b[0m\u001b[1;33m\u001b[0m\u001b[0m\n\u001b[1;32m--> 784\u001b[1;33m             \u001b[0mconn\u001b[0m\u001b[1;33m.\u001b[0m\u001b[0mconnect\u001b[0m\u001b[1;33m(\u001b[0m\u001b[1;33m)\u001b[0m\u001b[1;33m\u001b[0m\u001b[0m\n\u001b[0m\u001b[0;32m    785\u001b[0m \u001b[1;33m\u001b[0m\u001b[0m\n",
      "\u001b[1;32mC:\\Miniconda2\\envs\\hour_of_code\\lib\\site-packages\\requests\\packages\\urllib3\\connection.py\u001b[0m in \u001b[0;36mconnect\u001b[1;34m(self)\u001b[0m\n\u001b[0;32m    251\u001b[0m                                     \u001b[0mserver_hostname\u001b[0m\u001b[1;33m=\u001b[0m\u001b[0mhostname\u001b[0m\u001b[1;33m,\u001b[0m\u001b[1;33m\u001b[0m\u001b[0m\n\u001b[1;32m--> 252\u001b[1;33m                                     ssl_version=resolved_ssl_version)\n\u001b[0m\u001b[0;32m    253\u001b[0m \u001b[1;33m\u001b[0m\u001b[0m\n",
      "\u001b[1;32mC:\\Miniconda2\\envs\\hour_of_code\\lib\\site-packages\\requests\\packages\\urllib3\\util\\ssl_.py\u001b[0m in \u001b[0;36mssl_wrap_socket\u001b[1;34m(sock, keyfile, certfile, cert_reqs, ca_certs, server_hostname, ssl_version, ciphers, ssl_context, ca_cert_dir)\u001b[0m\n\u001b[0;32m    304\u001b[0m     \u001b[1;32mif\u001b[0m \u001b[0mHAS_SNI\u001b[0m\u001b[1;33m:\u001b[0m  \u001b[1;31m# Platform-specific: OpenSSL with enabled SNI\u001b[0m\u001b[1;33m\u001b[0m\u001b[0m\n\u001b[1;32m--> 305\u001b[1;33m         \u001b[1;32mreturn\u001b[0m \u001b[0mcontext\u001b[0m\u001b[1;33m.\u001b[0m\u001b[0mwrap_socket\u001b[0m\u001b[1;33m(\u001b[0m\u001b[0msock\u001b[0m\u001b[1;33m,\u001b[0m \u001b[0mserver_hostname\u001b[0m\u001b[1;33m=\u001b[0m\u001b[0mserver_hostname\u001b[0m\u001b[1;33m)\u001b[0m\u001b[1;33m\u001b[0m\u001b[0m\n\u001b[0m\u001b[0;32m    306\u001b[0m \u001b[1;33m\u001b[0m\u001b[0m\n",
      "\u001b[1;32mC:\\Miniconda2\\envs\\hour_of_code\\lib\\ssl.py\u001b[0m in \u001b[0;36mwrap_socket\u001b[1;34m(self, sock, server_side, do_handshake_on_connect, suppress_ragged_eofs, server_hostname)\u001b[0m\n\u001b[0;32m    375\u001b[0m                          \u001b[0mserver_hostname\u001b[0m\u001b[1;33m=\u001b[0m\u001b[0mserver_hostname\u001b[0m\u001b[1;33m,\u001b[0m\u001b[1;33m\u001b[0m\u001b[0m\n\u001b[1;32m--> 376\u001b[1;33m                          _context=self)\n\u001b[0m\u001b[0;32m    377\u001b[0m \u001b[1;33m\u001b[0m\u001b[0m\n",
      "\u001b[1;32mC:\\Miniconda2\\envs\\hour_of_code\\lib\\ssl.py\u001b[0m in \u001b[0;36m__init__\u001b[1;34m(self, sock, keyfile, certfile, server_side, cert_reqs, ssl_version, ca_certs, do_handshake_on_connect, family, type, proto, fileno, suppress_ragged_eofs, npn_protocols, ciphers, server_hostname, _context)\u001b[0m\n\u001b[0;32m    746\u001b[0m                         \u001b[1;32mraise\u001b[0m \u001b[0mValueError\u001b[0m\u001b[1;33m(\u001b[0m\u001b[1;34m\"do_handshake_on_connect should not be specified for non-blocking sockets\"\u001b[0m\u001b[1;33m)\u001b[0m\u001b[1;33m\u001b[0m\u001b[0m\n\u001b[1;32m--> 747\u001b[1;33m                     \u001b[0mself\u001b[0m\u001b[1;33m.\u001b[0m\u001b[0mdo_handshake\u001b[0m\u001b[1;33m(\u001b[0m\u001b[1;33m)\u001b[0m\u001b[1;33m\u001b[0m\u001b[0m\n\u001b[0m\u001b[0;32m    748\u001b[0m \u001b[1;33m\u001b[0m\u001b[0m\n",
      "\u001b[1;32mC:\\Miniconda2\\envs\\hour_of_code\\lib\\ssl.py\u001b[0m in \u001b[0;36mdo_handshake\u001b[1;34m(self, block)\u001b[0m\n\u001b[0;32m    982\u001b[0m                 \u001b[0mself\u001b[0m\u001b[1;33m.\u001b[0m\u001b[0msettimeout\u001b[0m\u001b[1;33m(\u001b[0m\u001b[1;32mNone\u001b[0m\u001b[1;33m)\u001b[0m\u001b[1;33m\u001b[0m\u001b[0m\n\u001b[1;32m--> 983\u001b[1;33m             \u001b[0mself\u001b[0m\u001b[1;33m.\u001b[0m\u001b[0m_sslobj\u001b[0m\u001b[1;33m.\u001b[0m\u001b[0mdo_handshake\u001b[0m\u001b[1;33m(\u001b[0m\u001b[1;33m)\u001b[0m\u001b[1;33m\u001b[0m\u001b[0m\n\u001b[0m\u001b[0;32m    984\u001b[0m         \u001b[1;32mfinally\u001b[0m\u001b[1;33m:\u001b[0m\u001b[1;33m\u001b[0m\u001b[0m\n",
      "\u001b[1;32mC:\\Miniconda2\\envs\\hour_of_code\\lib\\ssl.py\u001b[0m in \u001b[0;36mdo_handshake\u001b[1;34m(self)\u001b[0m\n\u001b[0;32m    627\u001b[0m         \u001b[1;34m\"\"\"Start the SSL/TLS handshake.\"\"\"\u001b[0m\u001b[1;33m\u001b[0m\u001b[0m\n\u001b[1;32m--> 628\u001b[1;33m         \u001b[0mself\u001b[0m\u001b[1;33m.\u001b[0m\u001b[0m_sslobj\u001b[0m\u001b[1;33m.\u001b[0m\u001b[0mdo_handshake\u001b[0m\u001b[1;33m(\u001b[0m\u001b[1;33m)\u001b[0m\u001b[1;33m\u001b[0m\u001b[0m\n\u001b[0m\u001b[0;32m    629\u001b[0m         \u001b[1;32mif\u001b[0m \u001b[0mself\u001b[0m\u001b[1;33m.\u001b[0m\u001b[0mcontext\u001b[0m\u001b[1;33m.\u001b[0m\u001b[0mcheck_hostname\u001b[0m\u001b[1;33m:\u001b[0m\u001b[1;33m\u001b[0m\u001b[0m\n",
      "\u001b[1;31mProtocolError\u001b[0m: ('Connection aborted.', ConnectionResetError(10054, '遠端主機已強制關閉一個現存的連線。', None, 10054, None))",
      "\nDuring handling of the above exception, another exception occurred:\n",
      "\u001b[1;31mConnectionError\u001b[0m                           Traceback (most recent call last)",
      "\u001b[1;32m<ipython-input-82-770a24b33c5b>\u001b[0m in \u001b[0;36m<module>\u001b[1;34m()\u001b[0m\n\u001b[0;32m     30\u001b[0m         \u001b[1;32mfor\u001b[0m \u001b[0ml\u001b[0m \u001b[1;32min\u001b[0m \u001b[0mrange\u001b[0m\u001b[1;33m(\u001b[0m\u001b[0mlen\u001b[0m\u001b[1;33m(\u001b[0m\u001b[0mpd1\u001b[0m\u001b[1;33m)\u001b[0m\u001b[1;33m)\u001b[0m\u001b[1;33m:\u001b[0m\u001b[1;33m\u001b[0m\u001b[0m\n\u001b[0;32m     31\u001b[0m             \u001b[0muser\u001b[0m \u001b[1;33m=\u001b[0m \u001b[0mpayload\u001b[0m\u001b[1;33m[\u001b[0m\u001b[1;34m'user'\u001b[0m\u001b[1;33m]\u001b[0m\u001b[1;33m\u001b[0m\u001b[0m\n\u001b[1;32m---> 32\u001b[1;33m             \u001b[0mr\u001b[0m \u001b[1;33m=\u001b[0m \u001b[0mrequests\u001b[0m\u001b[1;33m.\u001b[0m\u001b[0mget\u001b[0m\u001b[1;33m(\u001b[0m\u001b[1;34m'https://emma.pixnet.cc/blog/articles/{}'\u001b[0m\u001b[1;33m.\u001b[0m\u001b[0mformat\u001b[0m\u001b[1;33m(\u001b[0m\u001b[0mpd2\u001b[0m\u001b[1;33m[\u001b[0m\u001b[1;34m'id'\u001b[0m\u001b[1;33m]\u001b[0m\u001b[1;33m[\u001b[0m\u001b[0ml\u001b[0m\u001b[1;33m]\u001b[0m\u001b[1;33m)\u001b[0m\u001b[1;33m,\u001b[0m \u001b[0mparams\u001b[0m \u001b[1;33m=\u001b[0m \u001b[1;33m{\u001b[0m\u001b[1;34m'user'\u001b[0m\u001b[1;33m:\u001b[0m\u001b[0muser\u001b[0m\u001b[1;33m}\u001b[0m \u001b[1;33m)\u001b[0m\u001b[1;33m\u001b[0m\u001b[0m\n\u001b[0m\u001b[0;32m     33\u001b[0m             \u001b[0mpd_body\u001b[0m \u001b[1;33m=\u001b[0m \u001b[0mpd\u001b[0m\u001b[1;33m.\u001b[0m\u001b[0mread_json\u001b[0m\u001b[1;33m(\u001b[0m\u001b[0mr\u001b[0m\u001b[1;33m.\u001b[0m\u001b[0mtext\u001b[0m\u001b[1;33m)\u001b[0m\u001b[1;33m[\u001b[0m\u001b[1;34m'article'\u001b[0m\u001b[1;33m]\u001b[0m\u001b[1;33m[\u001b[0m\u001b[1;34m'body'\u001b[0m\u001b[1;33m]\u001b[0m\u001b[1;33m\u001b[0m\u001b[0m\n\u001b[0;32m     34\u001b[0m             \u001b[0msoup_body\u001b[0m \u001b[1;33m=\u001b[0m \u001b[0mbs\u001b[0m\u001b[1;33m(\u001b[0m\u001b[0mpd_body\u001b[0m\u001b[1;33m,\u001b[0m \u001b[1;34m'lxml'\u001b[0m\u001b[1;33m)\u001b[0m\u001b[1;33m\u001b[0m\u001b[0m\n",
      "\u001b[1;32mC:\\Miniconda2\\envs\\hour_of_code\\lib\\site-packages\\requests\\api.py\u001b[0m in \u001b[0;36mget\u001b[1;34m(url, params, **kwargs)\u001b[0m\n\u001b[0;32m     65\u001b[0m \u001b[1;33m\u001b[0m\u001b[0m\n\u001b[0;32m     66\u001b[0m     \u001b[0mkwargs\u001b[0m\u001b[1;33m.\u001b[0m\u001b[0msetdefault\u001b[0m\u001b[1;33m(\u001b[0m\u001b[1;34m'allow_redirects'\u001b[0m\u001b[1;33m,\u001b[0m \u001b[1;32mTrue\u001b[0m\u001b[1;33m)\u001b[0m\u001b[1;33m\u001b[0m\u001b[0m\n\u001b[1;32m---> 67\u001b[1;33m     \u001b[1;32mreturn\u001b[0m \u001b[0mrequest\u001b[0m\u001b[1;33m(\u001b[0m\u001b[1;34m'get'\u001b[0m\u001b[1;33m,\u001b[0m \u001b[0murl\u001b[0m\u001b[1;33m,\u001b[0m \u001b[0mparams\u001b[0m\u001b[1;33m=\u001b[0m\u001b[0mparams\u001b[0m\u001b[1;33m,\u001b[0m \u001b[1;33m**\u001b[0m\u001b[0mkwargs\u001b[0m\u001b[1;33m)\u001b[0m\u001b[1;33m\u001b[0m\u001b[0m\n\u001b[0m\u001b[0;32m     68\u001b[0m \u001b[1;33m\u001b[0m\u001b[0m\n\u001b[0;32m     69\u001b[0m \u001b[1;33m\u001b[0m\u001b[0m\n",
      "\u001b[1;32mC:\\Miniconda2\\envs\\hour_of_code\\lib\\site-packages\\requests\\api.py\u001b[0m in \u001b[0;36mrequest\u001b[1;34m(method, url, **kwargs)\u001b[0m\n\u001b[0;32m     51\u001b[0m     \u001b[1;31m# cases, and look like a memory leak in others.\u001b[0m\u001b[1;33m\u001b[0m\u001b[1;33m\u001b[0m\u001b[0m\n\u001b[0;32m     52\u001b[0m     \u001b[1;32mwith\u001b[0m \u001b[0msessions\u001b[0m\u001b[1;33m.\u001b[0m\u001b[0mSession\u001b[0m\u001b[1;33m(\u001b[0m\u001b[1;33m)\u001b[0m \u001b[1;32mas\u001b[0m \u001b[0msession\u001b[0m\u001b[1;33m:\u001b[0m\u001b[1;33m\u001b[0m\u001b[0m\n\u001b[1;32m---> 53\u001b[1;33m         \u001b[1;32mreturn\u001b[0m \u001b[0msession\u001b[0m\u001b[1;33m.\u001b[0m\u001b[0mrequest\u001b[0m\u001b[1;33m(\u001b[0m\u001b[0mmethod\u001b[0m\u001b[1;33m=\u001b[0m\u001b[0mmethod\u001b[0m\u001b[1;33m,\u001b[0m \u001b[0murl\u001b[0m\u001b[1;33m=\u001b[0m\u001b[0murl\u001b[0m\u001b[1;33m,\u001b[0m \u001b[1;33m**\u001b[0m\u001b[0mkwargs\u001b[0m\u001b[1;33m)\u001b[0m\u001b[1;33m\u001b[0m\u001b[0m\n\u001b[0m\u001b[0;32m     54\u001b[0m \u001b[1;33m\u001b[0m\u001b[0m\n\u001b[0;32m     55\u001b[0m \u001b[1;33m\u001b[0m\u001b[0m\n",
      "\u001b[1;32mC:\\Miniconda2\\envs\\hour_of_code\\lib\\site-packages\\requests\\sessions.py\u001b[0m in \u001b[0;36mrequest\u001b[1;34m(self, method, url, params, data, headers, cookies, files, auth, timeout, allow_redirects, proxies, hooks, stream, verify, cert, json)\u001b[0m\n\u001b[0;32m    466\u001b[0m         }\n\u001b[0;32m    467\u001b[0m         \u001b[0msend_kwargs\u001b[0m\u001b[1;33m.\u001b[0m\u001b[0mupdate\u001b[0m\u001b[1;33m(\u001b[0m\u001b[0msettings\u001b[0m\u001b[1;33m)\u001b[0m\u001b[1;33m\u001b[0m\u001b[0m\n\u001b[1;32m--> 468\u001b[1;33m         \u001b[0mresp\u001b[0m \u001b[1;33m=\u001b[0m \u001b[0mself\u001b[0m\u001b[1;33m.\u001b[0m\u001b[0msend\u001b[0m\u001b[1;33m(\u001b[0m\u001b[0mprep\u001b[0m\u001b[1;33m,\u001b[0m \u001b[1;33m**\u001b[0m\u001b[0msend_kwargs\u001b[0m\u001b[1;33m)\u001b[0m\u001b[1;33m\u001b[0m\u001b[0m\n\u001b[0m\u001b[0;32m    469\u001b[0m \u001b[1;33m\u001b[0m\u001b[0m\n\u001b[0;32m    470\u001b[0m         \u001b[1;32mreturn\u001b[0m \u001b[0mresp\u001b[0m\u001b[1;33m\u001b[0m\u001b[0m\n",
      "\u001b[1;32mC:\\Miniconda2\\envs\\hour_of_code\\lib\\site-packages\\requests\\sessions.py\u001b[0m in \u001b[0;36msend\u001b[1;34m(self, request, **kwargs)\u001b[0m\n\u001b[0;32m    574\u001b[0m \u001b[1;33m\u001b[0m\u001b[0m\n\u001b[0;32m    575\u001b[0m         \u001b[1;31m# Send the request\u001b[0m\u001b[1;33m\u001b[0m\u001b[1;33m\u001b[0m\u001b[0m\n\u001b[1;32m--> 576\u001b[1;33m         \u001b[0mr\u001b[0m \u001b[1;33m=\u001b[0m \u001b[0madapter\u001b[0m\u001b[1;33m.\u001b[0m\u001b[0msend\u001b[0m\u001b[1;33m(\u001b[0m\u001b[0mrequest\u001b[0m\u001b[1;33m,\u001b[0m \u001b[1;33m**\u001b[0m\u001b[0mkwargs\u001b[0m\u001b[1;33m)\u001b[0m\u001b[1;33m\u001b[0m\u001b[0m\n\u001b[0m\u001b[0;32m    577\u001b[0m \u001b[1;33m\u001b[0m\u001b[0m\n\u001b[0;32m    578\u001b[0m         \u001b[1;31m# Total elapsed time of the request (approximately)\u001b[0m\u001b[1;33m\u001b[0m\u001b[1;33m\u001b[0m\u001b[0m\n",
      "\u001b[1;32mC:\\Miniconda2\\envs\\hour_of_code\\lib\\site-packages\\requests\\adapters.py\u001b[0m in \u001b[0;36msend\u001b[1;34m(self, request, stream, timeout, verify, cert, proxies)\u001b[0m\n\u001b[0;32m    424\u001b[0m \u001b[1;33m\u001b[0m\u001b[0m\n\u001b[0;32m    425\u001b[0m         \u001b[1;32mexcept\u001b[0m \u001b[1;33m(\u001b[0m\u001b[0mProtocolError\u001b[0m\u001b[1;33m,\u001b[0m \u001b[0msocket\u001b[0m\u001b[1;33m.\u001b[0m\u001b[0merror\u001b[0m\u001b[1;33m)\u001b[0m \u001b[1;32mas\u001b[0m \u001b[0merr\u001b[0m\u001b[1;33m:\u001b[0m\u001b[1;33m\u001b[0m\u001b[0m\n\u001b[1;32m--> 426\u001b[1;33m             \u001b[1;32mraise\u001b[0m \u001b[0mConnectionError\u001b[0m\u001b[1;33m(\u001b[0m\u001b[0merr\u001b[0m\u001b[1;33m,\u001b[0m \u001b[0mrequest\u001b[0m\u001b[1;33m=\u001b[0m\u001b[0mrequest\u001b[0m\u001b[1;33m)\u001b[0m\u001b[1;33m\u001b[0m\u001b[0m\n\u001b[0m\u001b[0;32m    427\u001b[0m \u001b[1;33m\u001b[0m\u001b[0m\n\u001b[0;32m    428\u001b[0m         \u001b[1;32mexcept\u001b[0m \u001b[0mMaxRetryError\u001b[0m \u001b[1;32mas\u001b[0m \u001b[0me\u001b[0m\u001b[1;33m:\u001b[0m\u001b[1;33m\u001b[0m\u001b[0m\n",
      "\u001b[1;31mConnectionError\u001b[0m: ('Connection aborted.', ConnectionResetError(10054, '遠端主機已強制關閉一個現存的連線。', None, 10054, None))"
     ]
    }
   ],
   "source": [
    "payload = {\n",
    "    \"user\":\"\",\n",
    "    \"page\":\"\"\n",
    "}\n",
    "filename = \"Pixnet-\"+datetime.datetime.now().strftime('%Y%m%d')+\".csv\"\n",
    "\n",
    "for bn in blog_name:\n",
    "    print (bn)\n",
    "    articles = []\n",
    "    payload['user'] = bn\n",
    "    payload['page'] = \"1\"\n",
    "    re = requests.get('https://emma.pixnet.cc/blog/articles', params = payload)\n",
    "    totalpages = math.ceil(pd.read_json(re.text)['total'][0]/pd.read_json(re.text)['per_page'][0])\n",
    "\n",
    "    for i in range(totalpages):\n",
    "        payload['page'] = i + 1\n",
    "        re = requests.get('https://emma.pixnet.cc/blog/articles', params = payload)\n",
    "        pd1 = pd.read_json(re.text)['articles']\n",
    "        pd2 = pd.DataFrame.from_records(pd1)\n",
    "        pd2['hits_total'] = 0\n",
    "        pd2['pub_date'] = 'na'\n",
    "        pd2['blog_name'] = payload['user']\n",
    "        pd2['body'] = 'na'\n",
    "\n",
    "        for j in range(len(pd1)):\n",
    "            pd2['hits_total'].iloc[j] = pd2['hits'][j]['total']\n",
    "        for k in range(len(pd2)):\n",
    "            pd2['pub_date'].iloc[k] = datetime.date.fromtimestamp(int(pd2['public_at'][k])).strftime('%Y-%m-%d')\n",
    "        #取得文章內容\n",
    "        for l in range(len(pd1)):\n",
    "            user = payload['user']\n",
    "            r = requests.get('https://emma.pixnet.cc/blog/articles/{}'.format(pd2['id'][l]), params = {'user':user} )\n",
    "            pd_body = pd.read_json(r.text)['article']['body']\n",
    "            soup_body = bs(pd_body, 'lxml')\n",
    "            pd2['body'].iloc[l] = soup_body.text.replace(\"\\n\", \"\")\n",
    "\n",
    "        articles.append(pd2[['blog_name', 'category', 'category_id', 'site_category', 'site_category_id', \\\n",
    "                             'id', 'link', 'title', 'pub_date', 'hits_total', 'body']])\n",
    "        Pixnet_articles = pd.concat(articles, ignore_index=True)\n",
    "        if not os.path.isfile(filename):\n",
    "            Pixnet_articles.to_csv(filename)\n",
    "        else:\n",
    "            Pixnet_articles.to_csv(filename, mode='a', header=False)\n",
    "        Pixnet_articles.clear()"
   ]
  },
  {
   "cell_type": "code",
   "execution_count": 43,
   "metadata": {
    "collapsed": true
   },
   "outputs": [
    {
     "data": {
      "text/plain": [
       "0        benshee1005\n",
       "1            whenwas\n",
       "2         rosecocoya\n",
       "3          cline1413\n",
       "4      purpleswallow\n",
       "5        Crystal1983\n",
       "6          tammytwkr\n",
       "7       judyer101010\n",
       "8          meiko1101\n",
       "9       naughtyangel\n",
       "10        uniquevera\n",
       "11            ch3126\n",
       "12            wkitty\n",
       "13       annybear920\n",
       "14             lohas\n",
       "15            ectomy\n",
       "16              Sybs\n",
       "17        mini692565\n",
       "18      venuslin0113\n",
       "19         chahabi77\n",
       "20        eddie80128\n",
       "21          zoey0830\n",
       "22           bajenny\n",
       "23        TWNLCC2012\n",
       "24         antiwhite\n",
       "25        kaikai0603\n",
       "26    missrachelnina\n",
       "27         kakakuksk\n",
       "28      angeline5775\n",
       "29             drugs\n",
       "           ...      \n",
       "70          twaychan\n",
       "71           peko721\n",
       "72        yukiko1437\n",
       "73          miihuang\n",
       "74         dailin114\n",
       "75        fafa710117\n",
       "76       eggface0507\n",
       "77             anise\n",
       "78      Estrella8850\n",
       "79         stellahyc\n",
       "80            a1630a\n",
       "81        inlifefood\n",
       "82        Whitesuper\n",
       "83         rita11836\n",
       "84            Dorcas\n",
       "85          arielctl\n",
       "86           kulinmu\n",
       "87             han18\n",
       "88             nyusc\n",
       "89         Peddy1207\n",
       "90            juujon\n",
       "91         GoByTrain\n",
       "92     gobbyyang0501\n",
       "93        SERENE1102\n",
       "94           PINGPIG\n",
       "95       vannessahsu\n",
       "96           haruhii\n",
       "97           piecece\n",
       "98         sPuTravel\n",
       "99         catmiyuki\n",
       "Name: user_name, dtype: object"
      ]
     },
     "execution_count": 43,
     "metadata": {},
     "output_type": "execute_result"
    }
   ],
   "source": [
    "#近期熱門部落格\n",
    "r = requests.get('https://emma.pixnet.cc/mainpage/blog/categories/hot_weekly/29?per_page=100')\n",
    "hot_user_name = pd.read_json(r.text)['user_name']\n",
    "hot_user_name"
   ]
  },
  {
   "cell_type": "code",
   "execution_count": 81,
   "metadata": {
    "collapsed": false
   },
   "outputs": [
    {
     "name": "stderr",
     "output_type": "stream",
     "text": [
      "C:\\Miniconda2\\envs\\hour_of_code\\lib\\site-packages\\pandas\\core\\indexing.py:128: SettingWithCopyWarning: \n",
      "A value is trying to be set on a copy of a slice from a DataFrame\n",
      "\n",
      "See the caveats in the documentation: http://pandas.pydata.org/pandas-docs/stable/indexing.html#indexing-view-versus-copy\n",
      "  self._setitem_with_indexer(indexer, value)\n"
     ]
    }
   ],
   "source": [
    "payload = {\n",
    "    \"user\":\"lohas\",\n",
    "    \"page\":\"1\",\n",
    "    \"per_page\":\"3\"\n",
    "}\n",
    "for i in range(2):\n",
    "    payload['page'] = i + 1\n",
    "    articles = []\n",
    "    re = requests.get('https://emma.pixnet.cc/blog/articles', params = payload)\n",
    "    pd1 = pd.read_json(re.text)['articles']\n",
    "    pd2 = pd.DataFrame.from_records(pd1)\n",
    "    pd2['hits_total'] = 0\n",
    "    pd2['pub_date'] = 'na'\n",
    "    pd2['blog_name'] = payload['user']\n",
    "    pd2['body'] = 'na'\n",
    "    for j in range(len(pd1)):\n",
    "        pd2['hits_total'].iloc[j] = pd2.loc[j,'hits']['total']\n",
    "    for k in range(len(pd1)):\n",
    "        pd2['pub_date'].iloc[k] = datetime.date.fromtimestamp(int(pd2['public_at'][k])).strftime('%Y-%m-%d')\n",
    "\n",
    "    #取得文章內容\n",
    "    for l in range(len(pd1)):\n",
    "        user = payload['user']\n",
    "        r = requests.get('https://emma.pixnet.cc/blog/articles/{}'.format(pd2['id'][l]), params = {'user':user} )\n",
    "        pd_body = pd.read_json(r.text)['article']['body']\n",
    "        soup_body = bs(pd_body, 'lxml')\n",
    "        pd2['body'].iloc[l] = soup_body.text.replace(\"\\n\", \"\")\n",
    "        \n",
    "    articles.append(pd2[['blog_name', 'category', 'category_id', 'site_category', 'site_category_id', \\\n",
    "                                                    'id', 'link', 'title', 'pub_date', 'hits_total', 'body']])\n",
    "    Pixnet_articles = pd.concat(articles, ignore_index=True)\n",
    "    if not os.path.isfile(\"test.csv\"):\n",
    "        Pixnet_articles.to_csv(\"test.csv\")\n",
    "    else:\n",
    "        Pixnet_articles.to_csv(\"test.csv\", mode='a', header=False)"
   ]
  },
  {
   "cell_type": "code",
   "execution_count": 42,
   "metadata": {
    "collapsed": true
   },
   "outputs": [
    {
     "data": {
      "text/plain": [
       "'手塚治虫の 鉄腕アトム 原子小金鋼，可是大方小時候最喜歡的卡通人物之一，關西經濟連合會將在 2016年04月08日發售全新的 原子小金鋼版 KANSAI ONE PASS 関西ワンパス ，KANSAI ONE PASS 本身就是一張 ICOCA ，當然也能在日本全國使用，在關西地區不少的觀光設施，還有優惠價格唷，讓你來日本關西玩，還能享有優惠唷。原子小金鋼版 KANSAI ONE PASS 関西ワンパス 將在 2016年04月08日發售，是針對來日本旅遊，持短期簽證外國人販售的，日本人並不能買。卡片的金額為 3000 日幣，包含了卡的押金500日幣 + 可用金額 2500日幣，在關西機場、JR西日本、阪急電鐵、近畿日本鐵道、大阪地鐵等關西的９條交通路線，外國人持護照均可以買到這款KANSAI ONE PASS 関西ワンパス。 (以現場實際銷售為主)銷售地點如下：http://kansaionepass.com/kf_pr/kf_pr_sale_tw.html\\xa0(表格資料來源)區鐵路名銷售地點關西國際機場JR西日本關西機場站南海電鐵關西機場站票務處京\\u3000都JR西日本京都站阪急電鐵阪急京都 旅遊咨詢服務中心（河原町）京阪電氣鐵道三條站近畿日本鐵道京都站京都市交通局城市公交和地鐵信息（京都站前）城市公交和地鐵信息（Kotochika京都）大\\u3000阪JR西日本新大阪站阪急電鐵阪急旅客服務中心 大阪・梅田京阪電氣鐵道京橋站近畿日本鐵道大阪難波站大阪上本町站大阪阿部野橋站南海電鐵難波站2層服務中心大阪市交通局新大阪站中檢票口“Subway Information Counter”御堂筋線難波站南北檢票口「Subway Information Counter」神\\u3000戶阪神電気鉄道阪神電車服務中心（神戶三宮）神戶市交通局神戶市營巴士・地鐵\\u3000客戶服務處（三宮）中文官網介紹：http://kansaionepass.com/kf_pr/kf_pr_tw.html目前卡片是採限量實驗性銷售，販售日期為2016 年 4 月 8 日（金）～2017 年 3 月 31 日（金），新聞資料來源：http://www.nkiac.co.jp/news/2015/2324/kansaionepass.pdf原子小金鋼版 KANSAI ONE PASS 関西ワンパス 目前只有這張原子小金鋼圖案，說是PASS，但好像沒在交通上有任何的優惠，也不是取代別的 PASS，就把這張卡想像是一張新圖案的 ICOCA，不過在大阪、京都、神戶、姬路、和歌山、奈良，地區限定的旅遊觀光設施或商店，使用這張卡，會享有優惠或贈品唷。KANSAI ONE PASS 享有的優惠在官網有整理的很清楚，還會持續增加中唷。中文官網介紹：http://kansaionepass.com/kf_pr/kf_pr_tw.html\\xa0(表格資料來源)※若享受以下優惠，都必須出示KANSAI ONE PASS（關西乘車一日券）府縣設施名稱優惠內容大阪梅田藍天大廈・空中庭園展望台展望台門票：優惠10％●個人費用 成人800日元→720日元、國中生500日元→450日元、小學生300日元→270日元（例）國立文樂劇場觀賞文樂公演時，在2樓劇場接待處可獲贈與「文樂」（世界無形文化遺產）相關的紀念品（幕見席（譯者注：只支付全票的部分費用觀賞一部文樂的其中一幕的特殊席位）除外）一本松海運株式會社●與落語家同遊\\u3000難波探險觀光船 乘船費優惠：成人（國中生以上）3,000日元→2,500日元※櫻花特別觀光船3,500日元→3,000日元（兒童無優惠）●道頓堀水上觀光船 乘船費優惠：成人（國中生以上）900日元→700日元、兒童（小學生）400日元→300日元●道頓堀水上爵士樂觀光船 乘船費優惠：成人（國中生以上）1,800日元→1,600日元（兒童無優惠）大阪歷史博物館大阪市立東洋陶瓷美術館大阪市立自然史博物館大阪市立美術館各館按先到先得原則向前2,500名顧客贈送紀念品（原創明信片）堺利晶之杜（譯者注：「杜」意為「林」）展品觀賞費：優惠20％●個人費用 成人（大學生以上）300日元→240日元、高中生200日元→160日元、國中生以下100日元→80日元臨空（Rinku）奧特萊斯贈送一份在該設施內可使用的優惠券關西國際機場內41家店舖優惠5％等京都京都塔觀覽台門票：成人770日元→700日元、高中生620日元→550日元、小學生・國中生520日元→450日元京都水族館贈送企鵝貼紙西陣織會館購物2,000日元以上的顧客可獲贈「原創明信片」一張京都祗園・彌榮會館 祗園角（Gion Corner）公演費用：成人3,150日元→2,800日元京都國際漫畫博物館贈送原創明信片嵐山・猴園岩田山門票：成人（高中生以上）優惠100日元、兒童優惠50日元兵庫姬路城【世界遺產】通常門票：優惠20％●成人（18歲以上）1000日元→800日元、兒童（小學生・國中生・高中生）300日元→240日元※不可與其他優惠服務並用書寫山圓教寺贈送 由書寫山圓教寺住持書寫的新春夢想書法，及印有代表今年的一個字的限定「單文字手帕」※購買書寫纜車乘車券時，在書寫站售票處分發神戶布引香草園／纜車門票（往返纜車費＋香草園入園費）：優惠20％\\u3000※僅限本人有效●通常票價 成人1,400日元→1,120日元、兒童（小學生・國中生）700日元→560日元●夜間票價 成人800日元→640日元、兒童500日元→400日元寶塚大劇場在劇場領取門票時，可獲贈明信片※以從寶塚歌劇官方網站的英文頁面購票的顧客為對象手塚治虫紀念館個人常規門票：優惠20％●成人700日元→560日元、國中生・高中生300日元→240日元、小學生100日元→80日元※僅限本人有效六甲花園露台在該設施內「六甲成吉思汗餐廳」的餐飲費：優惠10％※僅限本人有效\\u3000※不可只點飲料\\u3000※不可與其他優惠並用甲子園歷史館光臨該館的顧客，出示「KANSAI ONE PASS（關西乘車一日券）」可獲贈原創商品※不可與其他優惠服務並用神戶三田奧特萊斯贈送一份在該設施內可使用的優惠券和歌山和歌山遊艇城\\u3000黑潮市場飲費：優惠10％※在1層餐飲區域、及2層的兩家餐廳——「和食餐廳」和「自助餐廳」有效。奈良柿葉壽司JR奈良店、登大路店購物者可獲贈紀念品\\xa0還有 APP 將提供下載，大方會再注意，再更新上來的。大方也會收集這張卡唷，原子小金鋼，超可愛的啦。＊＊＊＊＊＊＊＊＊＊＊＊＊＊＊＊＊＊＊＊＊＊＊＊＊＊＊＊推薦日本3G、4G上網最方便的3G、4G分享器 – Wi Ho 3G、4G分享器文章介紹：http://lohas.pixnet.net/blog/post/31467155 [日本] Wi-Ho 3G、4G @ 日本出國遊玩，最佳3G、4G無限上網分享方案推薦大方讀者專屬優惠連結： http://goo.gl/9Qvo5L＊＊＊＊＊＊＊＊＊＊＊＊＊＊＊＊＊＊＊＊＊＊＊＊＊＊＊＊Agoda 大阪飯店 熱門訂房推薦～(a) 大阪帝國飯店 @ 難波車站五分鐘(b) 心齋橋哈頓酒店 @ 離美國村、心齋橋近(c) 新大阪心齋橋飯店 @ 心齋橋地鐵五分鐘(d) 大阪遠景正大酒店 @ 離道頓堀、激安殿堂近(e) 南船場哈頓酒店 @ 離心齋橋近(f) 大阪難波花飯店 @ 難波車站五分鐘(g) 北區梅田哈騰飯店 @ 交通便利(h) 芬迪别墅心齋橋飯店 @ 心齋橋地鐵北7出口3分鐘(i) 大阪菲拉麗兹酒店 @ 難波車站10分、近黑門市場(j) 大阪弗雷澤南海公寓飯店 @ 難波車站10分、逛街便利日本關西 大阪地區 飯店推薦、熱門酒店、訂房資訊：Agoda中文訂房\\xa0 http://www.agoda.com/zh-tw/city/osaka-jp.html?cid=1451235[必看] 大方的 OSAKA 大阪 旅遊攻略 @ 旅遊景點、購物、自由行攻略、飯店推薦～http://lohas.pixnet.net/blog/post/32293979[必看] 大方的 OSAKA 大阪 美食攻略 @ 大阪燒、串炸、章魚燒、拉麵、甜點、下午茶推薦～http://lohas.pixnet.net/blog/post/32293995\\xa0\\xa0 by 地區、地鐵分類，搜尋美食更好找～'"
      ]
     },
     "execution_count": 42,
     "metadata": {},
     "output_type": "execute_result"
    }
   ],
   "source": [
    "r = requests.get('https://emma.pixnet.cc/blog/articles/{}'.format('43446004'), params = {'user':'lohas'} )\n",
    "pd_body = pd.read_json(r.text)['article']['body']\n",
    "soup_body = bs(pd_body, 'lxml')\n",
    "article_body = soup_body.text.replace(\"\\n\", \"\")\n",
    "article_body"
   ]
  },
  {
   "cell_type": "code",
   "execution_count": null,
   "metadata": {
    "collapsed": true
   },
   "outputs": [],
   "source": []
  }
 ],
 "metadata": {
  "kernelspec": {
   "display_name": "Python 3",
   "language": "python",
   "name": "python3"
  },
  "language_info": {
   "codemirror_mode": {
    "name": "ipython",
    "version": 3
   },
   "file_extension": ".py",
   "mimetype": "text/x-python",
   "name": "python",
   "nbconvert_exporter": "python",
   "pygments_lexer": "ipython3",
   "version": "3.5.1"
  }
 },
 "nbformat": 4,
 "nbformat_minor": 0
}
