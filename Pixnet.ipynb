{
 "cells": [
  {
   "cell_type": "code",
   "execution_count": 1,
   "metadata": {
    "collapsed": false
   },
   "outputs": [],
   "source": [
    "import requests\n",
    "from bs4 import BeautifulSoup as bs\n",
    "import pandas as pd\n",
    "import json\n",
    "import math\n",
    "import time\n",
    "from datetime import datetime, timedelta\n",
    "import os"
   ]
  },
  {
   "cell_type": "code",
   "execution_count": 3,
   "metadata": {
    "collapsed": true
   },
   "outputs": [
    {
     "data": {
      "text/plain": [
       "['lohas',\n",
       " 'wkitty',\n",
       " 'bajenny',\n",
       " 'judyer101010',\n",
       " 'smilejean',\n",
       " 'mimg47',\n",
       " 'niniblue',\n",
       " 'drugs',\n",
       " 'paine0602',\n",
       " 'jay7134',\n",
       " 'ch3126',\n",
       " 'bangkokgoplay',\n",
       " 'cheng0073',\n",
       " 'john547',\n",
       " 'j272popo',\n",
       " 'fbuon2881',\n",
       " 'barbieedoll',\n",
       " 'viviyu',\n",
       " 'crystal1983',\n",
       " 'enlife',\n",
       " 'venuslin0113',\n",
       " 'oldfather1029',\n",
       " 'windko0813',\n",
       " 'l50740',\n",
       " 'sweetmemory99',\n",
       " 'kakakuksk',\n",
       " 'pingpig',\n",
       " 'evshhips',\n",
       " 'a59407908',\n",
       " 'nana0032458',\n",
       " 'kavanachang',\n",
       " 'agathachiu66',\n",
       " 'cat875030',\n",
       " 'banbi217',\n",
       " 'difeny',\n",
       " 'gugugu4411',\n",
       " 'jimmraz',\n",
       " 'jay0909',\n",
       " 'rita11836',\n",
       " 'masaharuwu',\n",
       " 'happyday760626',\n",
       " 'yopalit',\n",
       " 'as660707',\n",
       " 'amarylliss',\n",
       " 'julia116',\n",
       " 'maymay1231',\n",
       " 'demi0130',\n",
       " 'candybear0121',\n",
       " 'coupine650520',\n",
       " 'dreamycat0421',\n",
       " 'vilily',\n",
       " 'damon624',\n",
       " 'tainanlohas',\n",
       " 'mika0310',\n",
       " 'monkey2010',\n",
       " 'dong1104',\n",
       " 'hrylin',\n",
       " 'i88mnet',\n",
       " 'bonddealerbook',\n",
       " 'qpjj',\n",
       " 'nanacobaby',\n",
       " 'aliciaisme',\n",
       " 'louis5149',\n",
       " 'darrenje0322',\n",
       " 'dailin114',\n",
       " 'nini710',\n",
       " 'aura10',\n",
       " 'loveyuwa',\n",
       " 'httpandkimo',\n",
       " 'catty0914',\n",
       " 'bulanini',\n",
       " 'sinea100',\n",
       " 'tammytwkr',\n",
       " 'ballenf',\n",
       " 'stellachen524',\n",
       " 'ccn1618',\n",
       " 'show490426',\n",
       " 'bobo5210',\n",
       " 'yoyovilla',\n",
       " 'baw1031',\n",
       " 'yukiko1437',\n",
       " 'eeooa0314',\n",
       " 'infinite520visa',\n",
       " 'tinie0810',\n",
       " 'pj20120619',\n",
       " 'beautychu060',\n",
       " 'rosecocoya',\n",
       " 'ericwalk',\n",
       " 'onetrip',\n",
       " 'doracat0099',\n",
       " 'starken',\n",
       " 'sultt',\n",
       " 'cuteboge100',\n",
       " 'starrailway',\n",
       " 'kaikai0603',\n",
       " 'omamao',\n",
       " 'shebw',\n",
       " 'j965j5',\n",
       " 'angelwy5451',\n",
       " 'lionbeauty']"
      ]
     },
     "execution_count": 3,
     "metadata": {},
     "output_type": "execute_result"
    }
   ],
   "source": [
    "#旅遊部落客排行榜\n",
    "blog_name = []\n",
    "rank = 0\n",
    "for i in range(7):\n",
    "    page = i + 1\n",
    "    r = requests.get('https://www.pixnet.net/blog/bloggers/category/16/{}'.format(page))\n",
    "    r.encoding = 'utf8'\n",
    "    soup = bs(r.text, 'lxml')\n",
    "    for j in range(len(soup.select('#content .author'))):\n",
    "        blog_name.append(soup.select('.author')[j]['href'].split('/')[-1])\n",
    "        rank += 1\n",
    "        if rank >= 100:\n",
    "            break\n",
    "blog_name"
   ]
  },
  {
   "cell_type": "code",
   "execution_count": 4,
   "metadata": {
    "collapsed": true
   },
   "outputs": [
    {
     "name": "stdout",
     "output_type": "stream",
     "text": [
      "lohas\n"
     ]
    },
    {
     "name": "stderr",
     "output_type": "stream",
     "text": [
      "C:\\Miniconda2\\envs\\hour_of_code\\lib\\site-packages\\pandas\\core\\indexing.py:128: SettingWithCopyWarning: \n",
      "A value is trying to be set on a copy of a slice from a DataFrame\n",
      "\n",
      "See the caveats in the documentation: http://pandas.pydata.org/pandas-docs/stable/indexing.html#indexing-view-versus-copy\n",
      "  self._setitem_with_indexer(indexer, value)\n"
     ]
    },
    {
     "name": "stdout",
     "output_type": "stream",
     "text": [
      "wkitty\n",
      "bajenny\n",
      "judyer101010\n",
      "smilejean\n",
      "mimg47\n",
      "niniblue\n",
      "drugs\n",
      "paine0602\n"
     ]
    },
    {
     "ename": "ValueError",
     "evalue": "Mixing dicts with non-Series may lead to ambiguous ordering.",
     "output_type": "error",
     "traceback": [
      "\u001b[1;31m---------------------------------------------------------------------------\u001b[0m",
      "\u001b[1;31mValueError\u001b[0m                                Traceback (most recent call last)",
      "\u001b[1;32m<ipython-input-4-c1c5bf5f2603>\u001b[0m in \u001b[0;36m<module>\u001b[1;34m()\u001b[0m\n\u001b[0;32m     16\u001b[0m         \u001b[0mpayload\u001b[0m\u001b[1;33m[\u001b[0m\u001b[1;34m'page'\u001b[0m\u001b[1;33m]\u001b[0m \u001b[1;33m=\u001b[0m \u001b[0mi\u001b[0m \u001b[1;33m+\u001b[0m \u001b[1;36m1\u001b[0m\u001b[1;33m\u001b[0m\u001b[0m\n\u001b[0;32m     17\u001b[0m         \u001b[0mre\u001b[0m \u001b[1;33m=\u001b[0m \u001b[0mrequests\u001b[0m\u001b[1;33m.\u001b[0m\u001b[0mget\u001b[0m\u001b[1;33m(\u001b[0m\u001b[1;34m'https://emma.pixnet.cc/blog/articles'\u001b[0m\u001b[1;33m,\u001b[0m \u001b[0mparams\u001b[0m \u001b[1;33m=\u001b[0m \u001b[0mpayload\u001b[0m\u001b[1;33m)\u001b[0m\u001b[1;33m\u001b[0m\u001b[0m\n\u001b[1;32m---> 18\u001b[1;33m         \u001b[0mpd1\u001b[0m \u001b[1;33m=\u001b[0m \u001b[0mpd\u001b[0m\u001b[1;33m.\u001b[0m\u001b[0mread_json\u001b[0m\u001b[1;33m(\u001b[0m\u001b[0mre\u001b[0m\u001b[1;33m.\u001b[0m\u001b[0mtext\u001b[0m\u001b[1;33m)\u001b[0m\u001b[1;33m[\u001b[0m\u001b[1;34m'articles'\u001b[0m\u001b[1;33m]\u001b[0m\u001b[1;33m\u001b[0m\u001b[0m\n\u001b[0m\u001b[0;32m     19\u001b[0m         \u001b[0mpd2\u001b[0m \u001b[1;33m=\u001b[0m \u001b[0mpd\u001b[0m\u001b[1;33m.\u001b[0m\u001b[0mDataFrame\u001b[0m\u001b[1;33m.\u001b[0m\u001b[0mfrom_records\u001b[0m\u001b[1;33m(\u001b[0m\u001b[0mpd1\u001b[0m\u001b[1;33m)\u001b[0m\u001b[1;33m\u001b[0m\u001b[0m\n\u001b[0;32m     20\u001b[0m         \u001b[0mpd2\u001b[0m\u001b[1;33m[\u001b[0m\u001b[1;34m'hits_total'\u001b[0m\u001b[1;33m]\u001b[0m \u001b[1;33m=\u001b[0m \u001b[1;36m0\u001b[0m\u001b[1;33m\u001b[0m\u001b[0m\n",
      "\u001b[1;32mC:\\Miniconda2\\envs\\hour_of_code\\lib\\site-packages\\pandas\\io\\json.py\u001b[0m in \u001b[0;36mread_json\u001b[1;34m(path_or_buf, orient, typ, dtype, convert_axes, convert_dates, keep_default_dates, numpy, precise_float, date_unit)\u001b[0m\n\u001b[0;32m    209\u001b[0m         obj = FrameParser(json, orient, dtype, convert_axes, convert_dates,\n\u001b[0;32m    210\u001b[0m                           \u001b[0mkeep_default_dates\u001b[0m\u001b[1;33m,\u001b[0m \u001b[0mnumpy\u001b[0m\u001b[1;33m,\u001b[0m \u001b[0mprecise_float\u001b[0m\u001b[1;33m,\u001b[0m\u001b[1;33m\u001b[0m\u001b[0m\n\u001b[1;32m--> 211\u001b[1;33m                           date_unit).parse()\n\u001b[0m\u001b[0;32m    212\u001b[0m \u001b[1;33m\u001b[0m\u001b[0m\n\u001b[0;32m    213\u001b[0m     \u001b[1;32mif\u001b[0m \u001b[0mtyp\u001b[0m \u001b[1;33m==\u001b[0m \u001b[1;34m'series'\u001b[0m \u001b[1;32mor\u001b[0m \u001b[0mobj\u001b[0m \u001b[1;32mis\u001b[0m \u001b[1;32mNone\u001b[0m\u001b[1;33m:\u001b[0m\u001b[1;33m\u001b[0m\u001b[0m\n",
      "\u001b[1;32mC:\\Miniconda2\\envs\\hour_of_code\\lib\\site-packages\\pandas\\io\\json.py\u001b[0m in \u001b[0;36mparse\u001b[1;34m(self)\u001b[0m\n\u001b[0;32m    277\u001b[0m \u001b[1;33m\u001b[0m\u001b[0m\n\u001b[0;32m    278\u001b[0m         \u001b[1;32melse\u001b[0m\u001b[1;33m:\u001b[0m\u001b[1;33m\u001b[0m\u001b[0m\n\u001b[1;32m--> 279\u001b[1;33m             \u001b[0mself\u001b[0m\u001b[1;33m.\u001b[0m\u001b[0m_parse_no_numpy\u001b[0m\u001b[1;33m(\u001b[0m\u001b[1;33m)\u001b[0m\u001b[1;33m\u001b[0m\u001b[0m\n\u001b[0m\u001b[0;32m    280\u001b[0m \u001b[1;33m\u001b[0m\u001b[0m\n\u001b[0;32m    281\u001b[0m         \u001b[1;32mif\u001b[0m \u001b[0mself\u001b[0m\u001b[1;33m.\u001b[0m\u001b[0mobj\u001b[0m \u001b[1;32mis\u001b[0m \u001b[1;32mNone\u001b[0m\u001b[1;33m:\u001b[0m\u001b[1;33m\u001b[0m\u001b[0m\n",
      "\u001b[1;32mC:\\Miniconda2\\envs\\hour_of_code\\lib\\site-packages\\pandas\\io\\json.py\u001b[0m in \u001b[0;36m_parse_no_numpy\u001b[1;34m(self)\u001b[0m\n\u001b[0;32m    494\u001b[0m         \u001b[1;32mif\u001b[0m \u001b[0morient\u001b[0m \u001b[1;33m==\u001b[0m \u001b[1;34m\"columns\"\u001b[0m\u001b[1;33m:\u001b[0m\u001b[1;33m\u001b[0m\u001b[0m\n\u001b[0;32m    495\u001b[0m             self.obj = DataFrame(\n\u001b[1;32m--> 496\u001b[1;33m                 loads(json, precise_float=self.precise_float), dtype=None)\n\u001b[0m\u001b[0;32m    497\u001b[0m         \u001b[1;32melif\u001b[0m \u001b[0morient\u001b[0m \u001b[1;33m==\u001b[0m \u001b[1;34m\"split\"\u001b[0m\u001b[1;33m:\u001b[0m\u001b[1;33m\u001b[0m\u001b[0m\n\u001b[0;32m    498\u001b[0m             decoded = dict((str(k), v)\n",
      "\u001b[1;32mC:\\Miniconda2\\envs\\hour_of_code\\lib\\site-packages\\pandas\\core\\frame.py\u001b[0m in \u001b[0;36m__init__\u001b[1;34m(self, data, index, columns, dtype, copy)\u001b[0m\n\u001b[0;32m    221\u001b[0m                                  dtype=dtype, copy=copy)\n\u001b[0;32m    222\u001b[0m         \u001b[1;32melif\u001b[0m \u001b[0misinstance\u001b[0m\u001b[1;33m(\u001b[0m\u001b[0mdata\u001b[0m\u001b[1;33m,\u001b[0m \u001b[0mdict\u001b[0m\u001b[1;33m)\u001b[0m\u001b[1;33m:\u001b[0m\u001b[1;33m\u001b[0m\u001b[0m\n\u001b[1;32m--> 223\u001b[1;33m             \u001b[0mmgr\u001b[0m \u001b[1;33m=\u001b[0m \u001b[0mself\u001b[0m\u001b[1;33m.\u001b[0m\u001b[0m_init_dict\u001b[0m\u001b[1;33m(\u001b[0m\u001b[0mdata\u001b[0m\u001b[1;33m,\u001b[0m \u001b[0mindex\u001b[0m\u001b[1;33m,\u001b[0m \u001b[0mcolumns\u001b[0m\u001b[1;33m,\u001b[0m \u001b[0mdtype\u001b[0m\u001b[1;33m=\u001b[0m\u001b[0mdtype\u001b[0m\u001b[1;33m)\u001b[0m\u001b[1;33m\u001b[0m\u001b[0m\n\u001b[0m\u001b[0;32m    224\u001b[0m         \u001b[1;32melif\u001b[0m \u001b[0misinstance\u001b[0m\u001b[1;33m(\u001b[0m\u001b[0mdata\u001b[0m\u001b[1;33m,\u001b[0m \u001b[0mma\u001b[0m\u001b[1;33m.\u001b[0m\u001b[0mMaskedArray\u001b[0m\u001b[1;33m)\u001b[0m\u001b[1;33m:\u001b[0m\u001b[1;33m\u001b[0m\u001b[0m\n\u001b[0;32m    225\u001b[0m             \u001b[1;32mimport\u001b[0m \u001b[0mnumpy\u001b[0m\u001b[1;33m.\u001b[0m\u001b[0mma\u001b[0m\u001b[1;33m.\u001b[0m\u001b[0mmrecords\u001b[0m \u001b[1;32mas\u001b[0m \u001b[0mmrecords\u001b[0m\u001b[1;33m\u001b[0m\u001b[0m\n",
      "\u001b[1;32mC:\\Miniconda2\\envs\\hour_of_code\\lib\\site-packages\\pandas\\core\\frame.py\u001b[0m in \u001b[0;36m_init_dict\u001b[1;34m(self, data, index, columns, dtype)\u001b[0m\n\u001b[0;32m    357\u001b[0m             \u001b[0marrays\u001b[0m \u001b[1;33m=\u001b[0m \u001b[1;33m[\u001b[0m\u001b[0mdata\u001b[0m\u001b[1;33m[\u001b[0m\u001b[0mk\u001b[0m\u001b[1;33m]\u001b[0m \u001b[1;32mfor\u001b[0m \u001b[0mk\u001b[0m \u001b[1;32min\u001b[0m \u001b[0mkeys\u001b[0m\u001b[1;33m]\u001b[0m\u001b[1;33m\u001b[0m\u001b[0m\n\u001b[0;32m    358\u001b[0m \u001b[1;33m\u001b[0m\u001b[0m\n\u001b[1;32m--> 359\u001b[1;33m         \u001b[1;32mreturn\u001b[0m \u001b[0m_arrays_to_mgr\u001b[0m\u001b[1;33m(\u001b[0m\u001b[0marrays\u001b[0m\u001b[1;33m,\u001b[0m \u001b[0mdata_names\u001b[0m\u001b[1;33m,\u001b[0m \u001b[0mindex\u001b[0m\u001b[1;33m,\u001b[0m \u001b[0mcolumns\u001b[0m\u001b[1;33m,\u001b[0m \u001b[0mdtype\u001b[0m\u001b[1;33m=\u001b[0m\u001b[0mdtype\u001b[0m\u001b[1;33m)\u001b[0m\u001b[1;33m\u001b[0m\u001b[0m\n\u001b[0m\u001b[0;32m    360\u001b[0m \u001b[1;33m\u001b[0m\u001b[0m\n\u001b[0;32m    361\u001b[0m     \u001b[1;32mdef\u001b[0m \u001b[0m_init_ndarray\u001b[0m\u001b[1;33m(\u001b[0m\u001b[0mself\u001b[0m\u001b[1;33m,\u001b[0m \u001b[0mvalues\u001b[0m\u001b[1;33m,\u001b[0m \u001b[0mindex\u001b[0m\u001b[1;33m,\u001b[0m \u001b[0mcolumns\u001b[0m\u001b[1;33m,\u001b[0m \u001b[0mdtype\u001b[0m\u001b[1;33m=\u001b[0m\u001b[1;32mNone\u001b[0m\u001b[1;33m,\u001b[0m \u001b[0mcopy\u001b[0m\u001b[1;33m=\u001b[0m\u001b[1;32mFalse\u001b[0m\u001b[1;33m)\u001b[0m\u001b[1;33m:\u001b[0m\u001b[1;33m\u001b[0m\u001b[0m\n",
      "\u001b[1;32mC:\\Miniconda2\\envs\\hour_of_code\\lib\\site-packages\\pandas\\core\\frame.py\u001b[0m in \u001b[0;36m_arrays_to_mgr\u001b[1;34m(arrays, arr_names, index, columns, dtype)\u001b[0m\n\u001b[0;32m   5238\u001b[0m     \u001b[1;31m# figure out the index, if necessary\u001b[0m\u001b[1;33m\u001b[0m\u001b[1;33m\u001b[0m\u001b[0m\n\u001b[0;32m   5239\u001b[0m     \u001b[1;32mif\u001b[0m \u001b[0mindex\u001b[0m \u001b[1;32mis\u001b[0m \u001b[1;32mNone\u001b[0m\u001b[1;33m:\u001b[0m\u001b[1;33m\u001b[0m\u001b[0m\n\u001b[1;32m-> 5240\u001b[1;33m         \u001b[0mindex\u001b[0m \u001b[1;33m=\u001b[0m \u001b[0mextract_index\u001b[0m\u001b[1;33m(\u001b[0m\u001b[0marrays\u001b[0m\u001b[1;33m)\u001b[0m\u001b[1;33m\u001b[0m\u001b[0m\n\u001b[0m\u001b[0;32m   5241\u001b[0m     \u001b[1;32melse\u001b[0m\u001b[1;33m:\u001b[0m\u001b[1;33m\u001b[0m\u001b[0m\n\u001b[0;32m   5242\u001b[0m         \u001b[0mindex\u001b[0m \u001b[1;33m=\u001b[0m \u001b[0m_ensure_index\u001b[0m\u001b[1;33m(\u001b[0m\u001b[0mindex\u001b[0m\u001b[1;33m)\u001b[0m\u001b[1;33m\u001b[0m\u001b[0m\n",
      "\u001b[1;32mC:\\Miniconda2\\envs\\hour_of_code\\lib\\site-packages\\pandas\\core\\frame.py\u001b[0m in \u001b[0;36mextract_index\u001b[1;34m(data)\u001b[0m\n\u001b[0;32m   5289\u001b[0m \u001b[1;33m\u001b[0m\u001b[0m\n\u001b[0;32m   5290\u001b[0m             \u001b[1;32mif\u001b[0m \u001b[0mhave_dicts\u001b[0m\u001b[1;33m:\u001b[0m\u001b[1;33m\u001b[0m\u001b[0m\n\u001b[1;32m-> 5291\u001b[1;33m                 raise ValueError('Mixing dicts with non-Series may lead to '\n\u001b[0m\u001b[0;32m   5292\u001b[0m                                  'ambiguous ordering.')\n\u001b[0;32m   5293\u001b[0m \u001b[1;33m\u001b[0m\u001b[0m\n",
      "\u001b[1;31mValueError\u001b[0m: Mixing dicts with non-Series may lead to ambiguous ordering."
     ]
    }
   ],
   "source": [
    "payload = {\n",
    "    \"user\":\"\",\n",
    "    \"page\":\"\"\n",
    "}\n",
    "filename = \"Pixnet-\"+datetime.now().strftime('%Y%m%d')+\".csv\"\n",
    "\n",
    "for bn in blog_name:\n",
    "    print (bn)\n",
    "    articles = []\n",
    "    payload['user'] = bn\n",
    "    payload['page'] = \"1\"\n",
    "    re = requests.get('https://emma.pixnet.cc/blog/articles', params = payload)\n",
    "    totalpages = math.ceil(pd.read_json(re.text)['total'][0]/pd.read_json(re.text)['per_page'][0])\n",
    "\n",
    "    for i in range(totalpages):\n",
    "        payload['page'] = i + 1\n",
    "        re = requests.get('https://emma.pixnet.cc/blog/articles', params = payload)\n",
    "        pd1 = pd.read_json(re.text)['articles']\n",
    "        pd2 = pd.DataFrame.from_records(pd1)\n",
    "        pd2['hits_total'] = 0\n",
    "        pd2['pub_date'] = 'na'\n",
    "        for j in range(len(pd1)):\n",
    "            pd2['hits_total'].iloc[j] = pd2['hits'][j]['total']\n",
    "        for k in range(len(pd2)):\n",
    "            pd2['pub_date'].iloc[k] = datetime.date.fromtimestamp(int(pd2['public_at'][k])).strftime('%Y-%m-%d')\n",
    "\n",
    "        articles.append(pd2[['category', 'category_id', 'site_category', 'site_category_id', \\\n",
    "                                                        'link', 'title', 'pub_date', 'hits_total']])\n",
    "    Pixnet_articles = pd.concat(articles, ignore_index=True)\n",
    "    if not os.path.isfile(filename):\n",
    "        Pixnet_articles.to_csv(filename)\n",
    "    else:\n",
    "        Pixnet_articles.to_csv(filename, mode='a', header=False)"
   ]
  },
  {
   "cell_type": "code",
   "execution_count": 43,
   "metadata": {
    "collapsed": true
   },
   "outputs": [
    {
     "data": {
      "text/plain": [
       "0        benshee1005\n",
       "1            whenwas\n",
       "2         rosecocoya\n",
       "3          cline1413\n",
       "4      purpleswallow\n",
       "5        Crystal1983\n",
       "6          tammytwkr\n",
       "7       judyer101010\n",
       "8          meiko1101\n",
       "9       naughtyangel\n",
       "10        uniquevera\n",
       "11            ch3126\n",
       "12            wkitty\n",
       "13       annybear920\n",
       "14             lohas\n",
       "15            ectomy\n",
       "16              Sybs\n",
       "17        mini692565\n",
       "18      venuslin0113\n",
       "19         chahabi77\n",
       "20        eddie80128\n",
       "21          zoey0830\n",
       "22           bajenny\n",
       "23        TWNLCC2012\n",
       "24         antiwhite\n",
       "25        kaikai0603\n",
       "26    missrachelnina\n",
       "27         kakakuksk\n",
       "28      angeline5775\n",
       "29             drugs\n",
       "           ...      \n",
       "70          twaychan\n",
       "71           peko721\n",
       "72        yukiko1437\n",
       "73          miihuang\n",
       "74         dailin114\n",
       "75        fafa710117\n",
       "76       eggface0507\n",
       "77             anise\n",
       "78      Estrella8850\n",
       "79         stellahyc\n",
       "80            a1630a\n",
       "81        inlifefood\n",
       "82        Whitesuper\n",
       "83         rita11836\n",
       "84            Dorcas\n",
       "85          arielctl\n",
       "86           kulinmu\n",
       "87             han18\n",
       "88             nyusc\n",
       "89         Peddy1207\n",
       "90            juujon\n",
       "91         GoByTrain\n",
       "92     gobbyyang0501\n",
       "93        SERENE1102\n",
       "94           PINGPIG\n",
       "95       vannessahsu\n",
       "96           haruhii\n",
       "97           piecece\n",
       "98         sPuTravel\n",
       "99         catmiyuki\n",
       "Name: user_name, dtype: object"
      ]
     },
     "execution_count": 43,
     "metadata": {},
     "output_type": "execute_result"
    }
   ],
   "source": [
    "#近期熱門部落格\n",
    "r = requests.get('https://emma.pixnet.cc/mainpage/blog/categories/hot_weekly/29?per_page=100')\n",
    "hot_user_name = pd.read_json(r.text)['user_name']\n",
    "hot_user_name"
   ]
  },
  {
   "cell_type": "code",
   "execution_count": null,
   "metadata": {
    "collapsed": true
   },
   "outputs": [],
   "source": []
  }
 ],
 "metadata": {
  "kernelspec": {
   "display_name": "Python 3",
   "language": "python",
   "name": "python3"
  },
  "language_info": {
   "codemirror_mode": {
    "name": "ipython",
    "version": 3
   },
   "file_extension": ".py",
   "mimetype": "text/x-python",
   "name": "python",
   "nbconvert_exporter": "python",
   "pygments_lexer": "ipython3",
   "version": "3.5.1"
  }
 },
 "nbformat": 4,
 "nbformat_minor": 0
}
