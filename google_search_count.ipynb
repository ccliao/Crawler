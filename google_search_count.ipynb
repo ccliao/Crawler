{
 "cells": [
  {
   "cell_type": "code",
   "execution_count": 75,
   "metadata": {
    "collapsed": false
   },
   "outputs": [
    {
     "name": "stdout",
     "output_type": "stream",
     "text": [
      "儲存完成\n"
     ]
    }
   ],
   "source": [
    "import requests\n",
    "from bs4 import BeautifulSoup as bs\n",
    "import csv\n",
    "search_count = []\n",
    "search_item = []\n",
    "\n",
    "with open('search.csv', 'r') as searchfile:\n",
    "    for i in csv.reader(searchfile):\n",
    "        r = requests.get('https://www.google.com.tw/search?q={}'.format(i))\n",
    "        s = bs(r.text, 'lxml').select('#resultStats')\n",
    "        count = s[0].text.split(' ')[1].replace(',', '')\n",
    "        search_count.append(count)\n",
    "        search_item.append(i)\n",
    "searchfile.close()\n",
    "\n",
    "f = open(\"search_result.csv\", \"w\")\n",
    "for i,j in zip(search_item, search_count):\n",
    "    f.write(str(i[0])+\",\"+str(j)+'\\n')\n",
    "f.close()\n",
    "\n",
    "print ('儲存完成')"
   ]
  },
  {
   "cell_type": "code",
   "execution_count": null,
   "metadata": {
    "collapsed": true
   },
   "outputs": [],
   "source": []
  }
 ],
 "metadata": {
  "kernelspec": {
   "display_name": "Python 3",
   "language": "python",
   "name": "python3"
  },
  "language_info": {
   "codemirror_mode": {
    "name": "ipython",
    "version": 3
   },
   "file_extension": ".py",
   "mimetype": "text/x-python",
   "name": "python",
   "nbconvert_exporter": "python",
   "pygments_lexer": "ipython3",
   "version": "3.5.1"
  }
 },
 "nbformat": 4,
 "nbformat_minor": 0
}
