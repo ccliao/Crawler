{
 "cells": [
  {
   "cell_type": "code",
   "execution_count": 2,
   "metadata": {},
   "outputs": [
    {
     "name": "stdout",
     "output_type": "stream",
     "text": [
      "儲存完成\n"
     ]
    }
   ],
   "source": [
    "import requests\n",
    "from bs4 import BeautifulSoup\n",
    "import re\n",
    "import pandas as pd\n",
    "\n",
    "#雄獅門市據點\n",
    "url = 'https://www.liontravel.com/retail/list.aspx?Sprima=ret00L3E01'\n",
    "req = requests.get(url, 'lxml')\n",
    "branch_name, branch_address, branch_fb, branch_telephone, branch_fax, branch_op_time = [], [], [], [], [], []\n",
    "bs = BeautifulSoup(req.text, 'lxml')\n",
    "for branch in bs.select('.colWidth li')[:-1]:\n",
    "    branch_name.append(branch.select('a')[0].text)\n",
    "    if len(branch.select('.fb_btn'))>0:\n",
    "        branch_fb.append(branch.select('.fb_btn')[0]['href'])\n",
    "    else:\n",
    "        branch_fb.append('')\n",
    "    \n",
    "    branch_address.append(re.findall('：.+',branch.select('.text span')[0].text.replace('地圖',''))[0].split('：')[1])\n",
    "    \n",
    "    if len(branch.select('.text span')[1].text)>5:\n",
    "        branch_telephone.append(re.findall('：[\\d-]+',branch.select('.text span')[1].text)[0].split('：')[1])\n",
    "    else:\n",
    "        branch_telephone.append('')\n",
    "    if len(branch.select('.text span')[2].text)>5:\n",
    "        branch_fax.append(re.findall('：[\\d-]+',branch.select('.text span')[2].text)[0].split('：')[1])\n",
    "    else:\n",
    "        branch_fax.append('')\n",
    "    branch_op_time.append(re.findall('：.+',branch.select('.text span')[3].text)[0].split('：')[1])\n",
    "    \n",
    "lion_location = pd.DataFrame({'門市名稱':branch_name,'住址':branch_address, '電話':branch_telephone, '傳真':branch_fax, \\\n",
    "                                '營業時間':branch_op_time, 'FB網址':branch_fb }, \n",
    "                             columns =['門市名稱','住址','電話','傳真','營業時間','FB網址'])\n",
    "\n",
    "lion_location.to_csv('lion_location.csv', index=False)\n",
    "print ('儲存完成')"
   ]
  },
  {
   "cell_type": "code",
   "execution_count": null,
   "metadata": {
    "collapsed": true
   },
   "outputs": [],
   "source": []
  }
 ],
 "metadata": {
  "kernelspec": {
   "display_name": "Python 3",
   "language": "python",
   "name": "python3"
  },
  "language_info": {
   "codemirror_mode": {
    "name": "ipython",
    "version": 3
   },
   "file_extension": ".py",
   "mimetype": "text/x-python",
   "name": "python",
   "nbconvert_exporter": "python",
   "pygments_lexer": "ipython3",
   "version": "3.6.0"
  }
 },
 "nbformat": 4,
 "nbformat_minor": 2
}
